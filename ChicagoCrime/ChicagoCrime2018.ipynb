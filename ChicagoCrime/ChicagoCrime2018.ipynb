{
 "cells": [
  {
   "cell_type": "markdown",
   "metadata": {},
   "source": [
    "# 2018 Chicago Crime: Arrest Modeling"
   ]
  },
  {
   "cell_type": "markdown",
   "metadata": {},
   "source": [
    "This data was pulled from https://data.cityofchicago.org from January 1, 2018, to May 17, 2018.  I used Openrefine to split and clean the address column.  Address was split into four columns which include the block number, direction, street name, and the address suffix.<br>\n",
    "<br>\n",
    "When modeling to predict arrests with this database, many biases can come into play based solely on the existence of a record.  For example, the amount of non-arrests for narcottics crimes is in the single digits, despite there being thousands of narcotics crimes.  This is most likely due to the nature of the crime, where a police record is created only when an arrest is made.<br>\n",
    "<br>\n",
    "For a simple model, lets see how well we can predict arrests based on the address of the crime given a record was created."
   ]
  },
  {
   "cell_type": "markdown",
   "metadata": {},
   "source": [
    "## Load the Data"
   ]
  },
  {
   "cell_type": "code",
   "execution_count": 1,
   "metadata": {
    "collapsed": true
   },
   "outputs": [],
   "source": [
    "import pandas as pd\n",
    "import numpy as np\n",
    "import matplotlib.pyplot as plt\n",
    "import seaborn as sns\n",
    "%matplotlib inline"
   ]
  },
  {
   "cell_type": "code",
   "execution_count": 2,
   "metadata": {
    "collapsed": true
   },
   "outputs": [],
   "source": [
    "df = pd.read_csv(\"ChicagoCrimes2018.csv\")"
   ]
  },
  {
   "cell_type": "code",
   "execution_count": 52,
   "metadata": {
    "collapsed": false
   },
   "outputs": [
    {
     "data": {
      "text/html": [
       "<div>\n",
       "<style scoped>\n",
       "    .dataframe tbody tr th:only-of-type {\n",
       "        vertical-align: middle;\n",
       "    }\n",
       "\n",
       "    .dataframe tbody tr th {\n",
       "        vertical-align: top;\n",
       "    }\n",
       "\n",
       "    .dataframe thead th {\n",
       "        text-align: right;\n",
       "    }\n",
       "</style>\n",
       "<table border=\"1\" class=\"dataframe\">\n",
       "  <thead>\n",
       "    <tr style=\"text-align: right;\">\n",
       "      <th></th>\n",
       "      <th>Date</th>\n",
       "      <th>Block</th>\n",
       "      <th>Address 1</th>\n",
       "      <th>Address 2</th>\n",
       "      <th>Address 3</th>\n",
       "      <th>Address 4</th>\n",
       "      <th>IUCR</th>\n",
       "      <th>Primary Type</th>\n",
       "      <th>Description</th>\n",
       "      <th>Location Description</th>\n",
       "      <th>...</th>\n",
       "      <th>Ward</th>\n",
       "      <th>Community Area</th>\n",
       "      <th>FBI Code</th>\n",
       "      <th>X Coordinate</th>\n",
       "      <th>Y Coordinate</th>\n",
       "      <th>Year</th>\n",
       "      <th>Updated On</th>\n",
       "      <th>Latitude</th>\n",
       "      <th>Longitude</th>\n",
       "      <th>Location</th>\n",
       "    </tr>\n",
       "  </thead>\n",
       "  <tbody>\n",
       "    <tr>\n",
       "      <th>0</th>\n",
       "      <td>01/01/2018 12:01:00 AM</td>\n",
       "      <td>017XX W 18TH PL</td>\n",
       "      <td>17</td>\n",
       "      <td>W</td>\n",
       "      <td>18TH</td>\n",
       "      <td>PL</td>\n",
       "      <td>1751</td>\n",
       "      <td>OFFENSE INVOLVING CHILDREN</td>\n",
       "      <td>CRIM SEX ABUSE BY FAM MEMBER</td>\n",
       "      <td>RESIDENCE</td>\n",
       "      <td>...</td>\n",
       "      <td>25.0</td>\n",
       "      <td>31</td>\n",
       "      <td>20</td>\n",
       "      <td>NaN</td>\n",
       "      <td>NaN</td>\n",
       "      <td>2018</td>\n",
       "      <td>05/23/2018 04:05:40 PM</td>\n",
       "      <td>NaN</td>\n",
       "      <td>NaN</td>\n",
       "      <td>NaN</td>\n",
       "    </tr>\n",
       "    <tr>\n",
       "      <th>1</th>\n",
       "      <td>01/01/2018 12:01:00 AM</td>\n",
       "      <td>054XX S SPAULDING AVE</td>\n",
       "      <td>54</td>\n",
       "      <td>S</td>\n",
       "      <td>SPAULDING</td>\n",
       "      <td>AVE</td>\n",
       "      <td>1752</td>\n",
       "      <td>OFFENSE INVOLVING CHILDREN</td>\n",
       "      <td>AGG CRIM SEX ABUSE FAM MEMBER</td>\n",
       "      <td>RESIDENCE</td>\n",
       "      <td>...</td>\n",
       "      <td>14.0</td>\n",
       "      <td>63</td>\n",
       "      <td>20</td>\n",
       "      <td>NaN</td>\n",
       "      <td>NaN</td>\n",
       "      <td>2018</td>\n",
       "      <td>05/23/2018 04:05:40 PM</td>\n",
       "      <td>NaN</td>\n",
       "      <td>NaN</td>\n",
       "      <td>NaN</td>\n",
       "    </tr>\n",
       "    <tr>\n",
       "      <th>2</th>\n",
       "      <td>01/01/2018 12:01:00 AM</td>\n",
       "      <td>029XX W LEXINGTON ST</td>\n",
       "      <td>29</td>\n",
       "      <td>W</td>\n",
       "      <td>LEXINGTON</td>\n",
       "      <td>ST</td>\n",
       "      <td>1544</td>\n",
       "      <td>SEX OFFENSE</td>\n",
       "      <td>SEXUAL EXPLOITATION OF A CHILD</td>\n",
       "      <td>APARTMENT</td>\n",
       "      <td>...</td>\n",
       "      <td>2.0</td>\n",
       "      <td>27</td>\n",
       "      <td>17</td>\n",
       "      <td>NaN</td>\n",
       "      <td>NaN</td>\n",
       "      <td>2018</td>\n",
       "      <td>05/23/2018 04:05:40 PM</td>\n",
       "      <td>NaN</td>\n",
       "      <td>NaN</td>\n",
       "      <td>NaN</td>\n",
       "    </tr>\n",
       "    <tr>\n",
       "      <th>3</th>\n",
       "      <td>01/01/2018 12:01:00 AM</td>\n",
       "      <td>049XX W FLETCHER ST</td>\n",
       "      <td>49</td>\n",
       "      <td>W</td>\n",
       "      <td>FLETCHER</td>\n",
       "      <td>ST</td>\n",
       "      <td>1544</td>\n",
       "      <td>SEX OFFENSE</td>\n",
       "      <td>SEXUAL EXPLOITATION OF A CHILD</td>\n",
       "      <td>RESIDENCE</td>\n",
       "      <td>...</td>\n",
       "      <td>31.0</td>\n",
       "      <td>19</td>\n",
       "      <td>17</td>\n",
       "      <td>NaN</td>\n",
       "      <td>NaN</td>\n",
       "      <td>2018</td>\n",
       "      <td>05/23/2018 04:05:40 PM</td>\n",
       "      <td>NaN</td>\n",
       "      <td>NaN</td>\n",
       "      <td>NaN</td>\n",
       "    </tr>\n",
       "    <tr>\n",
       "      <th>4</th>\n",
       "      <td>01/01/2018 12:01:00 AM</td>\n",
       "      <td>072XX S CALIFORNIA AVE</td>\n",
       "      <td>72</td>\n",
       "      <td>S</td>\n",
       "      <td>CALIFORNIA</td>\n",
       "      <td>AVE</td>\n",
       "      <td>1752</td>\n",
       "      <td>OFFENSE INVOLVING CHILDREN</td>\n",
       "      <td>AGG CRIM SEX ABUSE FAM MEMBER</td>\n",
       "      <td>DAY CARE CENTER</td>\n",
       "      <td>...</td>\n",
       "      <td>18.0</td>\n",
       "      <td>66</td>\n",
       "      <td>20</td>\n",
       "      <td>1158957.0</td>\n",
       "      <td>1856595.0</td>\n",
       "      <td>2018</td>\n",
       "      <td>05/23/2018 04:00:19 PM</td>\n",
       "      <td>41.762222</td>\n",
       "      <td>-87.692966</td>\n",
       "      <td>(41.762222436, -87.692965656)</td>\n",
       "    </tr>\n",
       "  </tbody>\n",
       "</table>\n",
       "<p>5 rows × 24 columns</p>\n",
       "</div>"
      ],
      "text/plain": [
       "                     Date                   Block  Address 1 Address 2  \\\n",
       "0  01/01/2018 12:01:00 AM         017XX W 18TH PL         17         W   \n",
       "1  01/01/2018 12:01:00 AM   054XX S SPAULDING AVE         54         S   \n",
       "2  01/01/2018 12:01:00 AM    029XX W LEXINGTON ST         29         W   \n",
       "3  01/01/2018 12:01:00 AM     049XX W FLETCHER ST         49         W   \n",
       "4  01/01/2018 12:01:00 AM  072XX S CALIFORNIA AVE         72         S   \n",
       "\n",
       "    Address 3 Address 4  IUCR                Primary Type  \\\n",
       "0        18TH        PL  1751  OFFENSE INVOLVING CHILDREN   \n",
       "1   SPAULDING       AVE  1752  OFFENSE INVOLVING CHILDREN   \n",
       "2   LEXINGTON        ST  1544                 SEX OFFENSE   \n",
       "3    FLETCHER        ST  1544                 SEX OFFENSE   \n",
       "4  CALIFORNIA       AVE  1752  OFFENSE INVOLVING CHILDREN   \n",
       "\n",
       "                      Description Location Description  \\\n",
       "0    CRIM SEX ABUSE BY FAM MEMBER            RESIDENCE   \n",
       "1   AGG CRIM SEX ABUSE FAM MEMBER            RESIDENCE   \n",
       "2  SEXUAL EXPLOITATION OF A CHILD            APARTMENT   \n",
       "3  SEXUAL EXPLOITATION OF A CHILD            RESIDENCE   \n",
       "4   AGG CRIM SEX ABUSE FAM MEMBER      DAY CARE CENTER   \n",
       "\n",
       "               ...                Ward  Community Area  FBI Code  \\\n",
       "0              ...                25.0              31        20   \n",
       "1              ...                14.0              63        20   \n",
       "2              ...                 2.0              27        17   \n",
       "3              ...                31.0              19        17   \n",
       "4              ...                18.0              66        20   \n",
       "\n",
       "   X Coordinate  Y Coordinate  Year              Updated On   Latitude  \\\n",
       "0           NaN           NaN  2018  05/23/2018 04:05:40 PM        NaN   \n",
       "1           NaN           NaN  2018  05/23/2018 04:05:40 PM        NaN   \n",
       "2           NaN           NaN  2018  05/23/2018 04:05:40 PM        NaN   \n",
       "3           NaN           NaN  2018  05/23/2018 04:05:40 PM        NaN   \n",
       "4     1158957.0     1856595.0  2018  05/23/2018 04:00:19 PM  41.762222   \n",
       "\n",
       "   Longitude                       Location  \n",
       "0        NaN                            NaN  \n",
       "1        NaN                            NaN  \n",
       "2        NaN                            NaN  \n",
       "3        NaN                            NaN  \n",
       "4 -87.692966  (41.762222436, -87.692965656)  \n",
       "\n",
       "[5 rows x 24 columns]"
      ]
     },
     "execution_count": 52,
     "metadata": {},
     "output_type": "execute_result"
    }
   ],
   "source": [
    "df.head()"
   ]
  },
  {
   "cell_type": "code",
   "execution_count": 53,
   "metadata": {
    "collapsed": false
   },
   "outputs": [
    {
     "data": {
      "text/html": [
       "<div>\n",
       "<style scoped>\n",
       "    .dataframe tbody tr th:only-of-type {\n",
       "        vertical-align: middle;\n",
       "    }\n",
       "\n",
       "    .dataframe tbody tr th {\n",
       "        vertical-align: top;\n",
       "    }\n",
       "\n",
       "    .dataframe thead th {\n",
       "        text-align: right;\n",
       "    }\n",
       "</style>\n",
       "<table border=\"1\" class=\"dataframe\">\n",
       "  <thead>\n",
       "    <tr style=\"text-align: right;\">\n",
       "      <th></th>\n",
       "      <th>Date</th>\n",
       "      <th>Block</th>\n",
       "      <th>Address 1</th>\n",
       "      <th>Address 2</th>\n",
       "      <th>Address 3</th>\n",
       "      <th>Address 4</th>\n",
       "      <th>IUCR</th>\n",
       "      <th>Primary Type</th>\n",
       "      <th>Description</th>\n",
       "      <th>Location Description</th>\n",
       "      <th>...</th>\n",
       "      <th>Ward</th>\n",
       "      <th>Community Area</th>\n",
       "      <th>FBI Code</th>\n",
       "      <th>X Coordinate</th>\n",
       "      <th>Y Coordinate</th>\n",
       "      <th>Year</th>\n",
       "      <th>Updated On</th>\n",
       "      <th>Latitude</th>\n",
       "      <th>Longitude</th>\n",
       "      <th>Location</th>\n",
       "    </tr>\n",
       "  </thead>\n",
       "  <tbody>\n",
       "    <tr>\n",
       "      <th>90691</th>\n",
       "      <td>05/17/2018 11:20:00 PM</td>\n",
       "      <td>005XX W CONGRESS PKWY</td>\n",
       "      <td>5</td>\n",
       "      <td>W</td>\n",
       "      <td>CONGRESS</td>\n",
       "      <td>PKWY</td>\n",
       "      <td>502T</td>\n",
       "      <td>OTHER OFFENSE</td>\n",
       "      <td>TAMPER WITH MOTOR VEHICLE</td>\n",
       "      <td>STREET</td>\n",
       "      <td>...</td>\n",
       "      <td>2.0</td>\n",
       "      <td>28</td>\n",
       "      <td>26</td>\n",
       "      <td>1173014.0</td>\n",
       "      <td>1897914.0</td>\n",
       "      <td>2018</td>\n",
       "      <td>05/24/2018 03:56:11 PM</td>\n",
       "      <td>41.875307</td>\n",
       "      <td>-87.640223</td>\n",
       "      <td>(41.875306962, -87.640223321)</td>\n",
       "    </tr>\n",
       "    <tr>\n",
       "      <th>90692</th>\n",
       "      <td>05/17/2018 11:40:00 PM</td>\n",
       "      <td>063XX S TROY ST</td>\n",
       "      <td>63</td>\n",
       "      <td>S</td>\n",
       "      <td>TROY</td>\n",
       "      <td>ST</td>\n",
       "      <td>0497</td>\n",
       "      <td>BATTERY</td>\n",
       "      <td>AGGRAVATED DOMESTIC BATTERY: OTHER DANG WEAPON</td>\n",
       "      <td>APARTMENT</td>\n",
       "      <td>...</td>\n",
       "      <td>15.0</td>\n",
       "      <td>66</td>\n",
       "      <td>04B</td>\n",
       "      <td>1156479.0</td>\n",
       "      <td>1862338.0</td>\n",
       "      <td>2018</td>\n",
       "      <td>05/24/2018 03:56:11 PM</td>\n",
       "      <td>41.778032</td>\n",
       "      <td>-87.701893</td>\n",
       "      <td>(41.778032361, -87.701893399)</td>\n",
       "    </tr>\n",
       "    <tr>\n",
       "      <th>90693</th>\n",
       "      <td>05/17/2018 11:40:00 PM</td>\n",
       "      <td>039XX W ROOSEVELT RD</td>\n",
       "      <td>39</td>\n",
       "      <td>W</td>\n",
       "      <td>ROOSEVELT</td>\n",
       "      <td>RD</td>\n",
       "      <td>3731</td>\n",
       "      <td>INTERFERENCE WITH PUBLIC OFFICER</td>\n",
       "      <td>OBSTRUCTING IDENTIFICATION</td>\n",
       "      <td>VEHICLE NON-COMMERCIAL</td>\n",
       "      <td>...</td>\n",
       "      <td>24.0</td>\n",
       "      <td>29</td>\n",
       "      <td>24</td>\n",
       "      <td>1150148.0</td>\n",
       "      <td>1894416.0</td>\n",
       "      <td>2018</td>\n",
       "      <td>05/24/2018 03:56:11 PM</td>\n",
       "      <td>41.866184</td>\n",
       "      <td>-87.724270</td>\n",
       "      <td>(41.866184058, -87.724269705)</td>\n",
       "    </tr>\n",
       "    <tr>\n",
       "      <th>90694</th>\n",
       "      <td>05/17/2018 11:50:00 PM</td>\n",
       "      <td>001XX E LAKE ST</td>\n",
       "      <td>1</td>\n",
       "      <td>E</td>\n",
       "      <td>LAKE</td>\n",
       "      <td>ST</td>\n",
       "      <td>0620</td>\n",
       "      <td>BURGLARY</td>\n",
       "      <td>UNLAWFUL ENTRY</td>\n",
       "      <td>RESTAURANT</td>\n",
       "      <td>...</td>\n",
       "      <td>42.0</td>\n",
       "      <td>32</td>\n",
       "      <td>05</td>\n",
       "      <td>1177375.0</td>\n",
       "      <td>1901760.0</td>\n",
       "      <td>2018</td>\n",
       "      <td>05/24/2018 03:56:11 PM</td>\n",
       "      <td>41.885763</td>\n",
       "      <td>-87.624095</td>\n",
       "      <td>(41.885762846, -87.624094929)</td>\n",
       "    </tr>\n",
       "    <tr>\n",
       "      <th>90695</th>\n",
       "      <td>05/17/2018 11:59:00 PM</td>\n",
       "      <td>042XX W AINSLIE ST</td>\n",
       "      <td>42</td>\n",
       "      <td>W</td>\n",
       "      <td>AINSLIE</td>\n",
       "      <td>ST</td>\n",
       "      <td>1320</td>\n",
       "      <td>CRIMINAL DAMAGE</td>\n",
       "      <td>TO VEHICLE</td>\n",
       "      <td>STREET</td>\n",
       "      <td>...</td>\n",
       "      <td>39.0</td>\n",
       "      <td>14</td>\n",
       "      <td>14</td>\n",
       "      <td>1147019.0</td>\n",
       "      <td>1932223.0</td>\n",
       "      <td>2018</td>\n",
       "      <td>05/24/2018 03:56:11 PM</td>\n",
       "      <td>41.969991</td>\n",
       "      <td>-87.734788</td>\n",
       "      <td>(41.969990507, -87.734787953)</td>\n",
       "    </tr>\n",
       "  </tbody>\n",
       "</table>\n",
       "<p>5 rows × 24 columns</p>\n",
       "</div>"
      ],
      "text/plain": [
       "                         Date                  Block  Address 1 Address 2  \\\n",
       "90691  05/17/2018 11:20:00 PM  005XX W CONGRESS PKWY          5         W   \n",
       "90692  05/17/2018 11:40:00 PM        063XX S TROY ST         63         S   \n",
       "90693  05/17/2018 11:40:00 PM   039XX W ROOSEVELT RD         39         W   \n",
       "90694  05/17/2018 11:50:00 PM        001XX E LAKE ST          1         E   \n",
       "90695  05/17/2018 11:59:00 PM     042XX W AINSLIE ST         42         W   \n",
       "\n",
       "       Address 3 Address 4  IUCR                      Primary Type  \\\n",
       "90691   CONGRESS      PKWY  502T                     OTHER OFFENSE   \n",
       "90692       TROY        ST  0497                           BATTERY   \n",
       "90693  ROOSEVELT        RD  3731  INTERFERENCE WITH PUBLIC OFFICER   \n",
       "90694       LAKE        ST  0620                          BURGLARY   \n",
       "90695    AINSLIE        ST  1320                   CRIMINAL DAMAGE   \n",
       "\n",
       "                                          Description    Location Description  \\\n",
       "90691                       TAMPER WITH MOTOR VEHICLE                  STREET   \n",
       "90692  AGGRAVATED DOMESTIC BATTERY: OTHER DANG WEAPON               APARTMENT   \n",
       "90693                      OBSTRUCTING IDENTIFICATION  VEHICLE NON-COMMERCIAL   \n",
       "90694                                  UNLAWFUL ENTRY              RESTAURANT   \n",
       "90695                                      TO VEHICLE                  STREET   \n",
       "\n",
       "                   ...                Ward  Community Area  FBI Code  \\\n",
       "90691              ...                 2.0              28        26   \n",
       "90692              ...                15.0              66       04B   \n",
       "90693              ...                24.0              29        24   \n",
       "90694              ...                42.0              32        05   \n",
       "90695              ...                39.0              14        14   \n",
       "\n",
       "       X Coordinate  Y Coordinate  Year              Updated On   Latitude  \\\n",
       "90691     1173014.0     1897914.0  2018  05/24/2018 03:56:11 PM  41.875307   \n",
       "90692     1156479.0     1862338.0  2018  05/24/2018 03:56:11 PM  41.778032   \n",
       "90693     1150148.0     1894416.0  2018  05/24/2018 03:56:11 PM  41.866184   \n",
       "90694     1177375.0     1901760.0  2018  05/24/2018 03:56:11 PM  41.885763   \n",
       "90695     1147019.0     1932223.0  2018  05/24/2018 03:56:11 PM  41.969991   \n",
       "\n",
       "       Longitude                       Location  \n",
       "90691 -87.640223  (41.875306962, -87.640223321)  \n",
       "90692 -87.701893  (41.778032361, -87.701893399)  \n",
       "90693 -87.724270  (41.866184058, -87.724269705)  \n",
       "90694 -87.624095  (41.885762846, -87.624094929)  \n",
       "90695 -87.734788  (41.969990507, -87.734787953)  \n",
       "\n",
       "[5 rows x 24 columns]"
      ]
     },
     "execution_count": 53,
     "metadata": {},
     "output_type": "execute_result"
    }
   ],
   "source": [
    "df.tail()"
   ]
  },
  {
   "cell_type": "markdown",
   "metadata": {},
   "source": [
    "## Explore the Data"
   ]
  },
  {
   "cell_type": "code",
   "execution_count": 4,
   "metadata": {
    "collapsed": false
   },
   "outputs": [
    {
     "name": "stdout",
     "output_type": "stream",
     "text": [
      "<class 'pandas.core.frame.DataFrame'>\n",
      "RangeIndex: 90696 entries, 0 to 90695\n",
      "Data columns (total 24 columns):\n",
      "Date                    90696 non-null object\n",
      "Block                   90696 non-null object\n",
      "Address 1               90696 non-null int64\n",
      "Address 2               90696 non-null object\n",
      "Address 3               90696 non-null object\n",
      "Address 4               90696 non-null object\n",
      "IUCR                    90696 non-null object\n",
      "Primary Type            90696 non-null object\n",
      "Description             90696 non-null object\n",
      "Location Description    90497 non-null object\n",
      "Arrest                  90696 non-null bool\n",
      "Domestic                90696 non-null bool\n",
      "Beat                    90696 non-null int64\n",
      "District                90696 non-null int64\n",
      "Ward                    90695 non-null float64\n",
      "Community Area          90696 non-null int64\n",
      "FBI Code                90696 non-null object\n",
      "X Coordinate            90208 non-null float64\n",
      "Y Coordinate            90208 non-null float64\n",
      "Year                    90696 non-null int64\n",
      "Updated On              90696 non-null object\n",
      "Latitude                90208 non-null float64\n",
      "Longitude               90208 non-null float64\n",
      "Location                90208 non-null object\n",
      "dtypes: bool(2), float64(5), int64(5), object(12)\n",
      "memory usage: 15.4+ MB\n"
     ]
    }
   ],
   "source": [
    "df.info()"
   ]
  },
  {
   "cell_type": "code",
   "execution_count": 5,
   "metadata": {
    "collapsed": false
   },
   "outputs": [
    {
     "data": {
      "text/plain": [
       "0    False\n",
       "1    False\n",
       "2    False\n",
       "3    False\n",
       "4    False\n",
       "Name: Arrest, dtype: bool"
      ]
     },
     "execution_count": 5,
     "metadata": {},
     "output_type": "execute_result"
    }
   ],
   "source": [
    "df['Arrest'].head()"
   ]
  },
  {
   "cell_type": "code",
   "execution_count": 6,
   "metadata": {
    "collapsed": false
   },
   "outputs": [
    {
     "data": {
      "text/plain": [
       "False    72563\n",
       "True     18133\n",
       "Name: Arrest, dtype: int64"
      ]
     },
     "execution_count": 6,
     "metadata": {},
     "output_type": "execute_result"
    }
   ],
   "source": [
    "df['Arrest'].value_counts()"
   ]
  },
  {
   "cell_type": "code",
   "execution_count": 7,
   "metadata": {
    "collapsed": false
   },
   "outputs": [
    {
     "data": {
      "text/plain": [
       "THEFT                  21145\n",
       "BATTERY                17124\n",
       "CRIMINAL DAMAGE         9562\n",
       "ASSAULT                 7070\n",
       "DECEPTIVE PRACTICE      6257\n",
       "OTHER OFFENSE           6186\n",
       "NARCOTICS               4585\n",
       "BURGLARY                3878\n",
       "MOTOR VEHICLE THEFT     3563\n",
       "ROBBERY                 3398\n",
       "Name: Primary Type, dtype: int64"
      ]
     },
     "execution_count": 7,
     "metadata": {},
     "output_type": "execute_result"
    }
   ],
   "source": [
    "df['Primary Type'].value_counts().head(10)"
   ]
  },
  {
   "cell_type": "markdown",
   "metadata": {},
   "source": [
    "We can visualize this with a count plot, and add in an additional feature of Arrest.  As we will see, non-arrests for narcotics records doesn't even register on the visualization. Narcotics records will most likely influence our model for predicting arrests."
   ]
  },
  {
   "cell_type": "code",
   "execution_count": 18,
   "metadata": {
    "collapsed": false
   },
   "outputs": [],
   "source": [
    "sns.set_style('darkgrid')"
   ]
  },
  {
   "cell_type": "code",
   "execution_count": 38,
   "metadata": {
    "collapsed": false
   },
   "outputs": [
    {
     "data": {
      "text/plain": [
       "<matplotlib.text.Text at 0x10dc89350>"
      ]
     },
     "execution_count": 38,
     "metadata": {},
     "output_type": "execute_result"
    },
    {
     "data": {
      "image/png": "[encoded data removed]",
      "text/plain": [
       "<matplotlib.figure.Figure at 0x10b58bf90>"
      ]
     },
     "metadata": {},
     "output_type": "display_data"
    }
   ],
   "source": [
    "plt.figure(figsize=(15,9))\n",
    "sns.countplot(y=df['Primary Type'], hue=df['Arrest'], palette='viridis',\n",
    "              order=df['Primary Type'].value_counts().head(10).index)\n",
    "plt.title('2018 Top Ten Chicago Crimes through May 17th')"
   ]
  },
  {
   "cell_type": "markdown",
   "metadata": {},
   "source": [
    "Lets take a look at the streets where the crimes take place."
   ]
  },
  {
   "cell_type": "code",
   "execution_count": 40,
   "metadata": {
    "collapsed": false
   },
   "outputs": [
    {
     "data": {
      "text/plain": [
       "STATE                       1940\n",
       "MICHIGAN                    1852\n",
       "HALSTED                     1258\n",
       "ASHLAND                     1158\n",
       "CLARK                        931\n",
       "WESTERN                      922\n",
       "MADISON                      877\n",
       "PULASKI                      868\n",
       "DR MARTIN LUTHER KING JR     856\n",
       "KEDZIE                       830\n",
       "Name: Address 3, dtype: int64"
      ]
     },
     "execution_count": 40,
     "metadata": {},
     "output_type": "execute_result"
    }
   ],
   "source": [
    "df['Address 3'].value_counts().head(10)"
   ]
  },
  {
   "cell_type": "code",
   "execution_count": 54,
   "metadata": {
    "collapsed": false
   },
   "outputs": [
    {
     "data": {
      "text/plain": [
       "<matplotlib.text.Text at 0x110e66690>"
      ]
     },
     "execution_count": 54,
     "metadata": {},
     "output_type": "execute_result"
    },
    {
     "data": {
      "image/png": "[encoded data removed]",
      "text/plain": [
       "<matplotlib.figure.Figure at 0x110b74510>"
      ]
     },
     "metadata": {},
     "output_type": "display_data"
    }
   ],
   "source": [
    "plt.figure(figsize=(15,9))\n",
    "sns.countplot(y=df['Address 3'], hue=df['Arrest'], palette='viridis',\n",
    "              order=df['Address 3'].value_counts().head(10).index)\n",
    "plt.ylabel('Street Name')\n",
    "plt.title('Crime Reports by Street Name')"
   ]
  },
  {
   "cell_type": "code",
   "execution_count": 56,
   "metadata": {
    "collapsed": false
   },
   "outputs": [
    {
     "data": {
      "text/plain": [
       "STREET                            19820\n",
       "RESIDENCE                         15409\n",
       "APARTMENT                         12261\n",
       "SIDEWALK                           6347\n",
       "OTHER                              3587\n",
       "PARKING LOT/GARAGE(NON.RESID.)     2711\n",
       "RESTAURANT                         2708\n",
       "SMALL RETAIL STORE                 2654\n",
       "DEPARTMENT STORE                   1707\n",
       "SCHOOL, PUBLIC, BUILDING           1638\n",
       "Name: Location Description, dtype: int64"
      ]
     },
     "execution_count": 56,
     "metadata": {},
     "output_type": "execute_result"
    }
   ],
   "source": [
    "df['Location Description'].value_counts().head(10)"
   ]
  },
  {
   "cell_type": "markdown",
   "metadata": {},
   "source": [
    "Arrests will be our target and currently is a boolean object.  We can convert it to a target '0' and '1' for modeling."
   ]
  },
  {
   "cell_type": "code",
   "execution_count": 10,
   "metadata": {
    "collapsed": false
   },
   "outputs": [],
   "source": [
    "df['Arrest']  = df['Arrest'].apply(lambda x: 1 if x==True else 0)"
   ]
  },
  {
   "cell_type": "code",
   "execution_count": 11,
   "metadata": {
    "collapsed": false
   },
   "outputs": [
    {
     "data": {
      "text/plain": [
       "0    72563\n",
       "1    18133\n",
       "Name: Arrest, dtype: int64"
      ]
     },
     "execution_count": 11,
     "metadata": {},
     "output_type": "execute_result"
    }
   ],
   "source": [
    "df['Arrest'].value_counts()"
   ]
  },
  {
   "cell_type": "code",
   "execution_count": 12,
   "metadata": {
    "collapsed": true
   },
   "outputs": [],
   "source": [
    "y=df['Arrest']"
   ]
  },
  {
   "cell_type": "code",
   "execution_count": 13,
   "metadata": {
    "collapsed": true
   },
   "outputs": [],
   "source": [
    "cat_feats = ['Address 1', 'Address 2', 'Address 3', 'Address 4']"
   ]
  },
  {
   "cell_type": "code",
   "execution_count": 14,
   "metadata": {
    "collapsed": true
   },
   "outputs": [],
   "source": [
    "X = df[cat_feats]"
   ]
  },
  {
   "cell_type": "code",
   "execution_count": 15,
   "metadata": {
    "collapsed": false
   },
   "outputs": [
    {
     "data": {
      "text/html": [
       "<div>\n",
       "<style scoped>\n",
       "    .dataframe tbody tr th:only-of-type {\n",
       "        vertical-align: middle;\n",
       "    }\n",
       "\n",
       "    .dataframe tbody tr th {\n",
       "        vertical-align: top;\n",
       "    }\n",
       "\n",
       "    .dataframe thead th {\n",
       "        text-align: right;\n",
       "    }\n",
       "</style>\n",
       "<table border=\"1\" class=\"dataframe\">\n",
       "  <thead>\n",
       "    <tr style=\"text-align: right;\">\n",
       "      <th></th>\n",
       "      <th>Address 1</th>\n",
       "      <th>Address 2</th>\n",
       "      <th>Address 3</th>\n",
       "      <th>Address 4</th>\n",
       "    </tr>\n",
       "  </thead>\n",
       "  <tbody>\n",
       "    <tr>\n",
       "      <th>0</th>\n",
       "      <td>17</td>\n",
       "      <td>W</td>\n",
       "      <td>18TH</td>\n",
       "      <td>PL</td>\n",
       "    </tr>\n",
       "    <tr>\n",
       "      <th>1</th>\n",
       "      <td>54</td>\n",
       "      <td>S</td>\n",
       "      <td>SPAULDING</td>\n",
       "      <td>AVE</td>\n",
       "    </tr>\n",
       "    <tr>\n",
       "      <th>2</th>\n",
       "      <td>29</td>\n",
       "      <td>W</td>\n",
       "      <td>LEXINGTON</td>\n",
       "      <td>ST</td>\n",
       "    </tr>\n",
       "    <tr>\n",
       "      <th>3</th>\n",
       "      <td>49</td>\n",
       "      <td>W</td>\n",
       "      <td>FLETCHER</td>\n",
       "      <td>ST</td>\n",
       "    </tr>\n",
       "    <tr>\n",
       "      <th>4</th>\n",
       "      <td>72</td>\n",
       "      <td>S</td>\n",
       "      <td>CALIFORNIA</td>\n",
       "      <td>AVE</td>\n",
       "    </tr>\n",
       "  </tbody>\n",
       "</table>\n",
       "</div>"
      ],
      "text/plain": [
       "   Address 1 Address 2   Address 3 Address 4\n",
       "0         17         W        18TH        PL\n",
       "1         54         S   SPAULDING       AVE\n",
       "2         29         W   LEXINGTON        ST\n",
       "3         49         W    FLETCHER        ST\n",
       "4         72         S  CALIFORNIA       AVE"
      ]
     },
     "execution_count": 15,
     "metadata": {},
     "output_type": "execute_result"
    }
   ],
   "source": [
    "X.head()"
   ]
  },
  {
   "cell_type": "code",
   "execution_count": 16,
   "metadata": {
    "collapsed": false
   },
   "outputs": [],
   "source": [
    "X =  pd.DataFrame(pd.get_dummies(X, columns=cat_feats, drop_first=True))"
   ]
  },
  {
   "cell_type": "code",
   "execution_count": 17,
   "metadata": {
    "collapsed": false
   },
   "outputs": [
    {
     "data": {
      "text/html": [
       "<div>\n",
       "<style scoped>\n",
       "    .dataframe tbody tr th:only-of-type {\n",
       "        vertical-align: middle;\n",
       "    }\n",
       "\n",
       "    .dataframe tbody tr th {\n",
       "        vertical-align: top;\n",
       "    }\n",
       "\n",
       "    .dataframe thead th {\n",
       "        text-align: right;\n",
       "    }\n",
       "</style>\n",
       "<table border=\"1\" class=\"dataframe\">\n",
       "  <thead>\n",
       "    <tr style=\"text-align: right;\">\n",
       "      <th></th>\n",
       "      <th>Address 1_1</th>\n",
       "      <th>Address 1_2</th>\n",
       "      <th>Address 1_3</th>\n",
       "      <th>Address 1_4</th>\n",
       "      <th>Address 1_5</th>\n",
       "      <th>Address 1_6</th>\n",
       "      <th>Address 1_7</th>\n",
       "      <th>Address 1_8</th>\n",
       "      <th>Address 1_9</th>\n",
       "      <th>Address 1_10</th>\n",
       "      <th>...</th>\n",
       "      <th>Address 4_PL</th>\n",
       "      <th>Address 4_PLAISANCE</th>\n",
       "      <th>Address 4_PLZ</th>\n",
       "      <th>Address 4_RD</th>\n",
       "      <th>Address 4_SB</th>\n",
       "      <th>Address 4_SQ</th>\n",
       "      <th>Address 4_ST</th>\n",
       "      <th>Address 4_TER</th>\n",
       "      <th>Address 4_W</th>\n",
       "      <th>Address 4_WAY</th>\n",
       "    </tr>\n",
       "  </thead>\n",
       "  <tbody>\n",
       "    <tr>\n",
       "      <th>0</th>\n",
       "      <td>0</td>\n",
       "      <td>0</td>\n",
       "      <td>0</td>\n",
       "      <td>0</td>\n",
       "      <td>0</td>\n",
       "      <td>0</td>\n",
       "      <td>0</td>\n",
       "      <td>0</td>\n",
       "      <td>0</td>\n",
       "      <td>0</td>\n",
       "      <td>...</td>\n",
       "      <td>1</td>\n",
       "      <td>0</td>\n",
       "      <td>0</td>\n",
       "      <td>0</td>\n",
       "      <td>0</td>\n",
       "      <td>0</td>\n",
       "      <td>0</td>\n",
       "      <td>0</td>\n",
       "      <td>0</td>\n",
       "      <td>0</td>\n",
       "    </tr>\n",
       "    <tr>\n",
       "      <th>1</th>\n",
       "      <td>0</td>\n",
       "      <td>0</td>\n",
       "      <td>0</td>\n",
       "      <td>0</td>\n",
       "      <td>0</td>\n",
       "      <td>0</td>\n",
       "      <td>0</td>\n",
       "      <td>0</td>\n",
       "      <td>0</td>\n",
       "      <td>0</td>\n",
       "      <td>...</td>\n",
       "      <td>0</td>\n",
       "      <td>0</td>\n",
       "      <td>0</td>\n",
       "      <td>0</td>\n",
       "      <td>0</td>\n",
       "      <td>0</td>\n",
       "      <td>0</td>\n",
       "      <td>0</td>\n",
       "      <td>0</td>\n",
       "      <td>0</td>\n",
       "    </tr>\n",
       "    <tr>\n",
       "      <th>2</th>\n",
       "      <td>0</td>\n",
       "      <td>0</td>\n",
       "      <td>0</td>\n",
       "      <td>0</td>\n",
       "      <td>0</td>\n",
       "      <td>0</td>\n",
       "      <td>0</td>\n",
       "      <td>0</td>\n",
       "      <td>0</td>\n",
       "      <td>0</td>\n",
       "      <td>...</td>\n",
       "      <td>0</td>\n",
       "      <td>0</td>\n",
       "      <td>0</td>\n",
       "      <td>0</td>\n",
       "      <td>0</td>\n",
       "      <td>0</td>\n",
       "      <td>1</td>\n",
       "      <td>0</td>\n",
       "      <td>0</td>\n",
       "      <td>0</td>\n",
       "    </tr>\n",
       "    <tr>\n",
       "      <th>3</th>\n",
       "      <td>0</td>\n",
       "      <td>0</td>\n",
       "      <td>0</td>\n",
       "      <td>0</td>\n",
       "      <td>0</td>\n",
       "      <td>0</td>\n",
       "      <td>0</td>\n",
       "      <td>0</td>\n",
       "      <td>0</td>\n",
       "      <td>0</td>\n",
       "      <td>...</td>\n",
       "      <td>0</td>\n",
       "      <td>0</td>\n",
       "      <td>0</td>\n",
       "      <td>0</td>\n",
       "      <td>0</td>\n",
       "      <td>0</td>\n",
       "      <td>1</td>\n",
       "      <td>0</td>\n",
       "      <td>0</td>\n",
       "      <td>0</td>\n",
       "    </tr>\n",
       "    <tr>\n",
       "      <th>4</th>\n",
       "      <td>0</td>\n",
       "      <td>0</td>\n",
       "      <td>0</td>\n",
       "      <td>0</td>\n",
       "      <td>0</td>\n",
       "      <td>0</td>\n",
       "      <td>0</td>\n",
       "      <td>0</td>\n",
       "      <td>0</td>\n",
       "      <td>0</td>\n",
       "      <td>...</td>\n",
       "      <td>0</td>\n",
       "      <td>0</td>\n",
       "      <td>0</td>\n",
       "      <td>0</td>\n",
       "      <td>0</td>\n",
       "      <td>0</td>\n",
       "      <td>0</td>\n",
       "      <td>0</td>\n",
       "      <td>0</td>\n",
       "      <td>0</td>\n",
       "    </tr>\n",
       "  </tbody>\n",
       "</table>\n",
       "<p>5 rows × 1301 columns</p>\n",
       "</div>"
      ],
      "text/plain": [
       "   Address 1_1  Address 1_2  Address 1_3  Address 1_4  Address 1_5  \\\n",
       "0            0            0            0            0            0   \n",
       "1            0            0            0            0            0   \n",
       "2            0            0            0            0            0   \n",
       "3            0            0            0            0            0   \n",
       "4            0            0            0            0            0   \n",
       "\n",
       "   Address 1_6  Address 1_7  Address 1_8  Address 1_9  Address 1_10  \\\n",
       "0            0            0            0            0             0   \n",
       "1            0            0            0            0             0   \n",
       "2            0            0            0            0             0   \n",
       "3            0            0            0            0             0   \n",
       "4            0            0            0            0             0   \n",
       "\n",
       "       ...        Address 4_PL  Address 4_PLAISANCE  Address 4_PLZ  \\\n",
       "0      ...                   1                    0              0   \n",
       "1      ...                   0                    0              0   \n",
       "2      ...                   0                    0              0   \n",
       "3      ...                   0                    0              0   \n",
       "4      ...                   0                    0              0   \n",
       "\n",
       "   Address 4_RD  Address 4_SB  Address 4_SQ  Address 4_ST  Address 4_TER  \\\n",
       "0             0             0             0             0              0   \n",
       "1             0             0             0             0              0   \n",
       "2             0             0             0             1              0   \n",
       "3             0             0             0             1              0   \n",
       "4             0             0             0             0              0   \n",
       "\n",
       "   Address 4_W  Address 4_WAY  \n",
       "0            0              0  \n",
       "1            0              0  \n",
       "2            0              0  \n",
       "3            0              0  \n",
       "4            0              0  \n",
       "\n",
       "[5 rows x 1301 columns]"
      ]
     },
     "execution_count": 17,
     "metadata": {},
     "output_type": "execute_result"
    }
   ],
   "source": [
    "X.head()"
   ]
  },
  {
   "cell_type": "code",
   "execution_count": 18,
   "metadata": {
    "collapsed": false
   },
   "outputs": [],
   "source": [
    "from sklearn.cross_validation import train_test_split"
   ]
  },
  {
   "cell_type": "code",
   "execution_count": 19,
   "metadata": {
    "collapsed": false
   },
   "outputs": [],
   "source": [
    "X_train, X_test, y_train, y_test = train_test_split(X, y, test_size=0.30, random_state=101)"
   ]
  },
  {
   "cell_type": "code",
   "execution_count": 20,
   "metadata": {
    "collapsed": false
   },
   "outputs": [
    {
     "data": {
      "text/plain": [
       "0    21797\n",
       "1     5412\n",
       "Name: Arrest, dtype: int64"
      ]
     },
     "execution_count": 20,
     "metadata": {},
     "output_type": "execute_result"
    }
   ],
   "source": [
    "y_test.value_counts()"
   ]
  },
  {
   "cell_type": "code",
   "execution_count": 21,
   "metadata": {
    "collapsed": true
   },
   "outputs": [],
   "source": [
    "from sklearn.linear_model import LogisticRegression\n",
    "from sklearn.metrics import confusion_matrix, classification_report, roc_auc_score"
   ]
  },
  {
   "cell_type": "code",
   "execution_count": 22,
   "metadata": {
    "collapsed": false
   },
   "outputs": [
    {
     "name": "stdout",
     "output_type": "stream",
     "text": [
      "[[21729    68]\n",
      " [ 5291   121]]\n",
      "\n",
      "\n",
      "             precision    recall  f1-score   support\n",
      "\n",
      "          0       0.80      1.00      0.89     21797\n",
      "          1       0.64      0.02      0.04      5412\n",
      "\n",
      "avg / total       0.77      0.80      0.72     27209\n",
      "\n",
      "AUC:  0.643512539833\n"
     ]
    }
   ],
   "source": [
    "logit = LogisticRegression()\n",
    "logit.fit(X_train,y_train)\n",
    "preds = logit.predict(X_test)\n",
    "preds_bins = logit.predict_proba(X_test)[:,1]\n",
    "auc = roc_auc_score(y_test, preds_bins)\n",
    "\n",
    "\n",
    "print confusion_matrix(y_test,preds)\n",
    "print'\\n'\n",
    "print classification_report(y_test, preds)\n",
    "print 'AUC: ', auc"
   ]
  },
  {
   "cell_type": "markdown",
   "metadata": {},
   "source": [
    "# Add the crime (IUCR is the crime codes from CPD)\n"
   ]
  },
  {
   "cell_type": "code",
   "execution_count": 23,
   "metadata": {
    "collapsed": false
   },
   "outputs": [
    {
     "name": "stdout",
     "output_type": "stream",
     "text": [
      "[[21312   485]\n",
      " [ 2379  3033]]\n",
      "\n",
      "\n",
      "             precision    recall  f1-score   support\n",
      "\n",
      "          0       0.90      0.98      0.94     21797\n",
      "          1       0.86      0.56      0.68      5412\n",
      "\n",
      "avg / total       0.89      0.89      0.89     27209\n",
      "\n",
      "AUC:  0.890257720054\n"
     ]
    }
   ],
   "source": [
    "cat_feats = ['Address 1', 'Address 2', 'Address 3', 'Address 4', 'IUCR']\n",
    "X = df[cat_feats]\n",
    "X = pd.DataFrame(pd.get_dummies(X, columns=cat_feats, drop_first=True))\n",
    "\n",
    "y = df['Arrest']\n",
    "\n",
    "X_train, X_test, y_train, y_test = train_test_split(X, y, test_size=0.30, random_state=101)\n",
    "\n",
    "logit = LogisticRegression()\n",
    "logit.fit(X_train,y_train)\n",
    "preds = logit.predict(X_test)\n",
    "preds_bins = logit.predict_proba(X_test)[:,1]\n",
    "auc = roc_auc_score(y_test, preds_bins)\n",
    "\n",
    "\n",
    "print confusion_matrix(y_test,preds)\n",
    "print'\\n'\n",
    "print classification_report(y_test, preds)\n",
    "print 'AUC: ', auc"
   ]
  }
 ],
 "metadata": {
  "kernelspec": {
   "display_name": "Python 2",
   "language": "python",
   "name": "python2"
  },
  "language_info": {
   "codemirror_mode": {
    "name": "ipython",
    "version": 2
   },
   "file_extension": ".py",
   "mimetype": "text/x-python",
   "name": "python",
   "nbconvert_exporter": "python",
   "pygments_lexer": "ipython2",
   "version": "2.7.12"
  }
 },
 "nbformat": 4,
 "nbformat_minor": 2
}
